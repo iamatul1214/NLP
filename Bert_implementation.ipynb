{
  "nbformat": 4,
  "nbformat_minor": 0,
  "metadata": {
    "colab": {
      "name": "Bert_implementation.ipynb",
      "provenance": [],
      "collapsed_sections": [],
      "mount_file_id": "1HNGDjkfNY-MFbS97-ObItp3vx6C_3nJw",
      "authorship_tag": "ABX9TyM6hQGQ4dNxCKyQcg5CBpu/",
      "include_colab_link": true
    },
    "kernelspec": {
      "name": "python3",
      "display_name": "Python 3"
    },
    "language_info": {
      "name": "python"
    },
    "accelerator": "GPU",
    "gpuClass": "standard"
  },
  "cells": [
    {
      "cell_type": "markdown",
      "metadata": {
        "id": "view-in-github",
        "colab_type": "text"
      },
      "source": [
        "<a href=\"https://colab.research.google.com/github/iamatul1214/NLP/blob/main/Bert_implementation.ipynb\" target=\"_parent\"><img src=\"https://colab.research.google.com/assets/colab-badge.svg\" alt=\"Open In Colab\"/></a>"
      ]
    },
    {
      "cell_type": "code",
      "source": [
        "%cd /content/drive/MyDrive/Transformer_practice"
      ],
      "metadata": {
        "colab": {
          "base_uri": "https://localhost:8080/"
        },
        "id": "DS0z2T05hkw5",
        "outputId": "e9101332-dfcb-41fc-aea4-1489cd1ae122"
      },
      "execution_count": 1,
      "outputs": [
        {
          "output_type": "stream",
          "name": "stdout",
          "text": [
            "/content/drive/MyDrive/Transformer_practice\n"
          ]
        }
      ]
    },
    {
      "cell_type": "code",
      "source": [
        "!pwd"
      ],
      "metadata": {
        "colab": {
          "base_uri": "https://localhost:8080/"
        },
        "id": "uo1-Qzsuh5Vg",
        "outputId": "5f50ca8f-fd9b-4486-b498-6369ed6345ad"
      },
      "execution_count": 2,
      "outputs": [
        {
          "output_type": "stream",
          "name": "stdout",
          "text": [
            "/content/drive/MyDrive/Transformer_practice\n"
          ]
        }
      ]
    },
    {
      "cell_type": "code",
      "execution_count": 3,
      "metadata": {
        "colab": {
          "base_uri": "https://localhost:8080/"
        },
        "id": "aw-xVXMwg19S",
        "outputId": "395f4d83-c783-4072-ee60-09dace753d25"
      },
      "outputs": [
        {
          "output_type": "stream",
          "name": "stdout",
          "text": [
            "installing ktrain....\n",
            "\u001b[K     |████████████████████████████████| 25.3 MB 1.4 MB/s \n",
            "\u001b[K     |████████████████████████████████| 22.3 MB 1.1 MB/s \n",
            "\u001b[K     |████████████████████████████████| 468 kB 69.5 MB/s \n",
            "\u001b[K     |████████████████████████████████| 1.2 MB 42.9 MB/s \n",
            "\u001b[K     |████████████████████████████████| 981 kB 51.5 MB/s \n",
            "\u001b[K     |████████████████████████████████| 263 kB 52.2 MB/s \n",
            "\u001b[K     |████████████████████████████████| 2.8 MB 41.8 MB/s \n",
            "\u001b[K     |████████████████████████████████| 3.3 MB 52.9 MB/s \n",
            "\u001b[K     |████████████████████████████████| 596 kB 39.4 MB/s \n",
            "\u001b[K     |████████████████████████████████| 86 kB 5.9 MB/s \n",
            "\u001b[K     |████████████████████████████████| 880 kB 55.8 MB/s \n",
            "\u001b[?25h  Building wheel for keras-bert (setup.py) ... \u001b[?25l\u001b[?25hdone\n",
            "  Building wheel for keras-transformer (setup.py) ... \u001b[?25l\u001b[?25hdone\n",
            "  Building wheel for keras-embed-sim (setup.py) ... \u001b[?25l\u001b[?25hdone\n",
            "  Building wheel for keras-layer-normalization (setup.py) ... \u001b[?25l\u001b[?25hdone\n",
            "  Building wheel for keras-multi-head (setup.py) ... \u001b[?25l\u001b[?25hdone\n",
            "  Building wheel for keras-pos-embd (setup.py) ... \u001b[?25l\u001b[?25hdone\n",
            "  Building wheel for keras-position-wise-feed-forward (setup.py) ... \u001b[?25l\u001b[?25hdone\n",
            "  Building wheel for keras-self-attention (setup.py) ... \u001b[?25l\u001b[?25hdone\n",
            "  Building wheel for langdetect (setup.py) ... \u001b[?25l\u001b[?25hdone\n",
            "  Building wheel for sacremoses (setup.py) ... \u001b[?25l\u001b[?25hdone\n",
            "\u001b[31mERROR: pip's dependency resolver does not currently take into account all the packages that are installed. This behaviour is the source of the following dependency conflicts.\n",
            "yellowbrick 1.4 requires scikit-learn>=1.0.0, but you have scikit-learn 0.24.2 which is incompatible.\u001b[0m\n"
          ]
        }
      ],
      "source": [
        "try:\n",
        "  import ktrain\n",
        "except Exception as e:\n",
        "  print(\"installing ktrain....\")\n",
        "  !pip install ktrain -q"
      ]
    },
    {
      "cell_type": "markdown",
      "source": [
        "## We will use BERT here on a dataset which is present under sklearn datasets. It will have classification of 20 news groups."
      ],
      "metadata": {
        "id": "uhof1RIiiWi_"
      }
    },
    {
      "cell_type": "code",
      "source": [
        "import ktrain\n",
        "from ktrain import text\n",
        "from sklearn.datasets import fetch_20newsgroups\n"
      ],
      "metadata": {
        "id": "FwRi2E2nhCxa"
      },
      "execution_count": 4,
      "outputs": []
    },
    {
      "cell_type": "code",
      "source": [
        "newsgroup_train = fetch_20newsgroups(subset='train')\n",
        "categories = newsgroup_train.target_names\n",
        "print(categories)\n",
        "print(len(categories))"
      ],
      "metadata": {
        "colab": {
          "base_uri": "https://localhost:8080/"
        },
        "id": "cuHF-QiMiTdS",
        "outputId": "da7e58d2-45ae-48d0-8c4e-10ba20471ac6"
      },
      "execution_count": 5,
      "outputs": [
        {
          "output_type": "stream",
          "name": "stdout",
          "text": [
            "['alt.atheism', 'comp.graphics', 'comp.os.ms-windows.misc', 'comp.sys.ibm.pc.hardware', 'comp.sys.mac.hardware', 'comp.windows.x', 'misc.forsale', 'rec.autos', 'rec.motorcycles', 'rec.sport.baseball', 'rec.sport.hockey', 'sci.crypt', 'sci.electronics', 'sci.med', 'sci.space', 'soc.religion.christian', 'talk.politics.guns', 'talk.politics.mideast', 'talk.politics.misc', 'talk.religion.misc']\n",
            "20\n"
          ]
        }
      ]
    },
    {
      "cell_type": "code",
      "source": [
        "## Let's fetch train and test sets\n",
        "train_data = fetch_20newsgroups(subset='train', categories=categories, shuffle=True, random_state=31)\n",
        "test_data = fetch_20newsgroups(subset='test', categories=categories, shuffle=True, random_state=31)"
      ],
      "metadata": {
        "id": "a_gt12Ddirgp"
      },
      "execution_count": 6,
      "outputs": []
    },
    {
      "cell_type": "code",
      "source": [
        "## Let's create train test split as well\n",
        "x_train, y_train, x_test,y_test = train_data.data,train_data.target,test_data.data,test_data.target"
      ],
      "metadata": {
        "id": "Ow47o9zIjnwz"
      },
      "execution_count": 7,
      "outputs": []
    },
    {
      "cell_type": "code",
      "source": [
        "id = 101\n",
        "print(f\"Some data example = \\n {x_train[id]}\")\n",
        "print(f\"Above data example's category = \\n {categories[y_train[id]]}\")"
      ],
      "metadata": {
        "colab": {
          "base_uri": "https://localhost:8080/"
        },
        "id": "7q62R9dlkChG",
        "outputId": "facf9efe-51e7-4de0-cde3-8d4fbfb9d637"
      },
      "execution_count": 8,
      "outputs": [
        {
          "output_type": "stream",
          "name": "stdout",
          "text": [
            "Some data example = \n",
            " From: kckluge@eecs.umich.edu (Karl Kluge)\n",
            "Subject: Re: Gritz/JBS/Liberty Lobby/LaRouche/Christic Insitute/Libertarian/....\n",
            "In-Reply-To: arf@genesis.MCS.COM's message of 15 Apr 1993 20:57:53 -0500\n",
            "Organization: University of Michigan\n",
            "Lines: 21\n",
            "\n",
            "\n",
            "> From: arf@genesis.MCS.COM (Jack Schmidling)\n",
            "> Subject: Re: Gritz/JBS/Liberty Lobby/LaRouche/Christic Insitute/Libertarian/....\n",
            "> Date: 15 Apr 1993 20:57:53 -0500\n",
            "> \n",
            "> I can't speak for the organizations you cited but everywhere you look in\n",
            "> our society and government, one can see the relentless movement toward\n",
            "> one world government.  The fact that the media demeans such charished \n",
            "> values as patriotism, nationalism and protectionism are some of the\n",
            "> clues....Our porous border both people and trade are an indiciation that \n",
            "> we have already lost a great deal of sovergnty.\n",
            "\n",
            "...and I'm sure that people who were big fans of fuedalism pissed and\n",
            "moaned about the emergence of the modern nation-state. Imagine, the King\n",
            "allowing serfs their freedom if they could live in the city for a year!\n",
            "Times change, technology changes, viable forms of social organization\n",
            "change. While concerns about preserving Western notions of civil liberties\n",
            "in the face of cultures with very different values is a valid one, it's\n",
            "a waste of effort to try to turn back the tide. It's much smarter to focus\n",
            "on trying to make sure that the emerging forms of social organization are\n",
            "acceptable than it iss to lament the passing of the old forms.\n",
            "\n",
            "Above data example's category = \n",
            " talk.politics.guns\n"
          ]
        }
      ]
    },
    {
      "cell_type": "code",
      "source": [
        "# preprocessing the data\n",
        "train, validation, preprocess  = text.texts_from_array(\n",
        "    x_train = x_train,\n",
        "    y_train = y_train,\n",
        "    x_test = x_test,\n",
        "    y_test = y_test,\n",
        "    class_names = train_data.target_names,\n",
        "    preprocess_mode='bert',    ## it will automatically download bert\n",
        "    maxlen=350\n",
        ")"
      ],
      "metadata": {
        "colab": {
          "base_uri": "https://localhost:8080/",
          "height": 305
        },
        "id": "inEX_EY9kSlR",
        "outputId": "6f9281b6-5f53-4599-8287-71eeaeadf1ed"
      },
      "execution_count": 9,
      "outputs": [
        {
          "output_type": "stream",
          "name": "stdout",
          "text": [
            "downloading pretrained BERT model (uncased_L-12_H-768_A-12.zip)...\n",
            "[██████████████████████████████████████████████████]\n",
            "extracting pretrained BERT model...\n",
            "done.\n",
            "\n",
            "cleanup downloaded zip...\n",
            "done.\n",
            "\n",
            "preprocessing train...\n",
            "language: en\n"
          ]
        },
        {
          "output_type": "display_data",
          "data": {
            "text/plain": [
              "<IPython.core.display.HTML object>"
            ],
            "text/html": [
              "\n",
              "<style>\n",
              "    /* Turns off some styling */\n",
              "    progress {\n",
              "        /* gets rid of default border in Firefox and Opera. */\n",
              "        border: none;\n",
              "        /* Needs to be in here for Safari polyfill so background images work as expected. */\n",
              "        background-size: auto;\n",
              "    }\n",
              "    .progress-bar-interrupted, .progress-bar-interrupted::-webkit-progress-bar {\n",
              "        background: #F44336;\n",
              "    }\n",
              "</style>\n"
            ]
          },
          "metadata": {}
        },
        {
          "output_type": "display_data",
          "data": {
            "text/plain": [
              "<IPython.core.display.HTML object>"
            ],
            "text/html": [
              "done."
            ]
          },
          "metadata": {}
        },
        {
          "output_type": "stream",
          "name": "stdout",
          "text": [
            "Is Multi-Label? False\n",
            "preprocessing test...\n",
            "language: en\n"
          ]
        },
        {
          "output_type": "display_data",
          "data": {
            "text/plain": [
              "<IPython.core.display.HTML object>"
            ],
            "text/html": [
              "\n",
              "<style>\n",
              "    /* Turns off some styling */\n",
              "    progress {\n",
              "        /* gets rid of default border in Firefox and Opera. */\n",
              "        border: none;\n",
              "        /* Needs to be in here for Safari polyfill so background images work as expected. */\n",
              "        background-size: auto;\n",
              "    }\n",
              "    .progress-bar-interrupted, .progress-bar-interrupted::-webkit-progress-bar {\n",
              "        background: #F44336;\n",
              "    }\n",
              "</style>\n"
            ]
          },
          "metadata": {}
        },
        {
          "output_type": "display_data",
          "data": {
            "text/plain": [
              "<IPython.core.display.HTML object>"
            ],
            "text/html": [
              "done."
            ]
          },
          "metadata": {}
        },
        {
          "output_type": "stream",
          "name": "stdout",
          "text": [
            "task: text classification\n"
          ]
        }
      ]
    },
    {
      "cell_type": "code",
      "source": [
        "model = text.text_classifier('bert', train_data = train, preproc = preprocess)"
      ],
      "metadata": {
        "colab": {
          "base_uri": "https://localhost:8080/"
        },
        "id": "7Z2kZYvil129",
        "outputId": "f4c6d1d5-2db9-46de-e4af-52abe11dfbba"
      },
      "execution_count": 10,
      "outputs": [
        {
          "output_type": "stream",
          "name": "stdout",
          "text": [
            "Is Multi-Label? False\n",
            "maxlen is 350\n",
            "done.\n"
          ]
        }
      ]
    },
    {
      "cell_type": "code",
      "source": [
        "learner = ktrain.get_learner(model, train_data=train, val_data=validation, batch_size=6)"
      ],
      "metadata": {
        "id": "xXOvAk1Pc8q6"
      },
      "execution_count": 11,
      "outputs": []
    },
    {
      "cell_type": "code",
      "source": [
        "LEARNING_RATE = 3e-5\n",
        "EPOCHS = 3\n",
        "learner.fit_onecycle(lr = LEARNING_RATE, epochs=EPOCHS)"
      ],
      "metadata": {
        "colab": {
          "base_uri": "https://localhost:8080/"
        },
        "id": "7pLGlRc8dXp-",
        "outputId": "da310d46-23ef-403f-c78c-0320ad78fa54"
      },
      "execution_count": 13,
      "outputs": [
        {
          "output_type": "stream",
          "name": "stdout",
          "text": [
            "\n",
            "\n",
            "begin training using onecycle policy with max lr of 3e-05...\n",
            "Epoch 1/3\n",
            "1886/1886 [==============================] - 1293s 686ms/step - loss: 1.0908 - accuracy: 0.6878 - val_loss: 0.6096 - val_accuracy: 0.8113\n",
            "Epoch 2/3\n",
            "1886/1886 [==============================] - 1287s 682ms/step - loss: 0.3418 - accuracy: 0.8962 - val_loss: 0.5610 - val_accuracy: 0.8419\n",
            "Epoch 3/3\n",
            "1886/1886 [==============================] - 1286s 682ms/step - loss: 0.1079 - accuracy: 0.9695 - val_loss: 0.5098 - val_accuracy: 0.8690\n"
          ]
        },
        {
          "output_type": "execute_result",
          "data": {
            "text/plain": [
              "<keras.callbacks.History at 0x7fcf21b85810>"
            ]
          },
          "metadata": {},
          "execution_count": 13
        }
      ]
    },
    {
      "cell_type": "code",
      "source": [
        "predictor = ktrain.get_predictor(model, preproc = preprocess)"
      ],
      "metadata": {
        "id": "LsTSyYN1dyht"
      },
      "execution_count": 14,
      "outputs": []
    },
    {
      "cell_type": "code",
      "source": [
        "text=\"The computer has failed the system as it ran out of memory at right moment\""
      ],
      "metadata": {
        "id": "pdcwCqOdeOGc"
      },
      "execution_count": 15,
      "outputs": []
    },
    {
      "cell_type": "code",
      "source": [
        "predictor.predict(texts = text)"
      ],
      "metadata": {
        "colab": {
          "base_uri": "https://localhost:8080/",
          "height": 36
        },
        "id": "C-_yhFPBfSZd",
        "outputId": "0a8d5242-3b8f-437c-a8e1-e2b3e6c30ee8"
      },
      "execution_count": 16,
      "outputs": [
        {
          "output_type": "execute_result",
          "data": {
            "text/plain": [
              "'comp.sys.ibm.pc.hardware'"
            ],
            "application/vnd.google.colaboratory.intrinsic+json": {
              "type": "string"
            }
          },
          "metadata": {},
          "execution_count": 16
        }
      ]
    },
    {
      "cell_type": "code",
      "source": [
        ""
      ],
      "metadata": {
        "colab": {
          "base_uri": "https://localhost:8080/",
          "height": 188
        },
        "id": "NEwl_hUnHjHu",
        "outputId": "3eef28e1-4ed4-44ab-c0ed-542cde33eca3"
      },
      "execution_count": 1,
      "outputs": [
        {
          "output_type": "error",
          "ename": "NameError",
          "evalue": "ignored",
          "traceback": [
            "\u001b[0;31m---------------------------------------------------------------------------\u001b[0m",
            "\u001b[0;31mNameError\u001b[0m                                 Traceback (most recent call last)",
            "\u001b[0;32m<ipython-input-1-2efae831c734>\u001b[0m in \u001b[0;36m<module>\u001b[0;34m()\u001b[0m\n\u001b[1;32m      1\u001b[0m \u001b[0mtext\u001b[0m\u001b[0;34m=\u001b[0m \u001b[0;34m\"The Indian hockey team banged Bronze medal\"\u001b[0m\u001b[0;34m\u001b[0m\u001b[0;34m\u001b[0m\u001b[0m\n\u001b[0;32m----> 2\u001b[0;31m \u001b[0mpredictor\u001b[0m\u001b[0;34m.\u001b[0m\u001b[0mpredict\u001b[0m\u001b[0;34m(\u001b[0m\u001b[0mtexts\u001b[0m \u001b[0;34m=\u001b[0m \u001b[0mtext\u001b[0m\u001b[0;34m)\u001b[0m\u001b[0;34m\u001b[0m\u001b[0;34m\u001b[0m\u001b[0m\n\u001b[0m",
            "\u001b[0;31mNameError\u001b[0m: name 'predictor' is not defined"
          ]
        }
      ]
    },
    {
      "cell_type": "code",
      "source": [
        ""
      ],
      "metadata": {
        "id": "SkK0addnHpIZ"
      },
      "execution_count": null,
      "outputs": []
    }
  ]
}
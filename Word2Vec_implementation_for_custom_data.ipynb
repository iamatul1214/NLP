{
  "nbformat": 4,
  "nbformat_minor": 0,
  "metadata": {
    "colab": {
      "name": "Word2Vec_implementation_for_custom_data.ipynb",
      "provenance": [],
      "mount_file_id": "1iQ_NNfvphThTn1Rt7edRTzPfp4d1m2uV",
      "authorship_tag": "ABX9TyNJ1fym75m6mHfZ7Twql72i",
      "include_colab_link": true
    },
    "kernelspec": {
      "name": "python3",
      "display_name": "Python 3"
    },
    "language_info": {
      "name": "python"
    }
  },
  "cells": [
    {
      "cell_type": "markdown",
      "metadata": {
        "id": "view-in-github",
        "colab_type": "text"
      },
      "source": [
        "<a href=\"https://colab.research.google.com/github/iamatul1214/NLP/blob/main/Word2Vec_implementation_for_custom_data.ipynb\" target=\"_parent\"><img src=\"https://colab.research.google.com/assets/colab-badge.svg\" alt=\"Open In Colab\"/></a>"
      ]
    },
    {
      "cell_type": "code",
      "execution_count": 1,
      "metadata": {
        "colab": {
          "base_uri": "https://localhost:8080/"
        },
        "id": "E0LlS95dIy-F",
        "outputId": "2d65e1ec-d1f3-46d9-a79e-6bcb87e7ea33"
      },
      "outputs": [
        {
          "output_type": "stream",
          "name": "stdout",
          "text": [
            "/content/drive/MyDrive/Jira integration NLP\n"
          ]
        }
      ],
      "source": [
        "import os\n",
        "ROOT=\"/content/drive/MyDrive/Jira integration NLP\"\n",
        "os.chdir(ROOT)\n",
        "!pwd"
      ]
    },
    {
      "cell_type": "code",
      "source": [
        "import pandas as pd\n",
        "sheet_id = \"1GEnqgKTd9Kxppt0wEKyhZRDdCMVxDrllEOlqjWVcIjE\"\n",
        "sheet_name = \"Final_data\"\n",
        "url = f\"https://docs.google.com/spreadsheets/d/{sheet_id}/gviz/tq?tqx=out:csv&sheet={sheet_name}\"\n",
        "\n",
        "df = pd.read_csv(url)\n",
        "df.head()"
      ],
      "metadata": {
        "colab": {
          "base_uri": "https://localhost:8080/",
          "height": 206
        },
        "id": "TXNGuH5UMjTX",
        "outputId": "259f1643-2e4a-44f4-f968-f11262413956"
      },
      "execution_count": 2,
      "outputs": [
        {
          "output_type": "execute_result",
          "data": {
            "text/plain": [
              "  Issue Type  Issue key                                            Summary  \\\n",
              "0      Story  OFE-47042  CR | UK & IR | Payments | Move iframe presenta...   \n",
              "1      Story  OFE-44231  Dev Only story - Reevoo Integration Modificati...   \n",
              "2      Story  OFE-42710              Regression test IR site on high level   \n",
              "3      Story  OFE-42690           Ireland - My Account-Order tracking link   \n",
              "4      Story  OFE-42037  Ireland- Display delivery Charges for Small Bo...   \n",
              "\n",
              "         Reporter            Sprint       Components  \n",
              "0       Tinu Alex               NaN  Commerce Team 1  \n",
              "1   Rajesh Chenna    T1 - Sprint 34  Commerce Team 1  \n",
              "2   Rajesh Chenna    T1 - Sprint 33  Commerce Team 1  \n",
              "3          lalana  T1 â€“ Sprint 23  Commerce Team 1  \n",
              "4  Hakim Upadhyay    T1 - Sprint 33  Commerce Team 1  "
            ],
            "text/html": [
              "\n",
              "  <div id=\"df-870fb344-dbab-4b2d-a260-2ed61dcc34ea\">\n",
              "    <div class=\"colab-df-container\">\n",
              "      <div>\n",
              "<style scoped>\n",
              "    .dataframe tbody tr th:only-of-type {\n",
              "        vertical-align: middle;\n",
              "    }\n",
              "\n",
              "    .dataframe tbody tr th {\n",
              "        vertical-align: top;\n",
              "    }\n",
              "\n",
              "    .dataframe thead th {\n",
              "        text-align: right;\n",
              "    }\n",
              "</style>\n",
              "<table border=\"1\" class=\"dataframe\">\n",
              "  <thead>\n",
              "    <tr style=\"text-align: right;\">\n",
              "      <th></th>\n",
              "      <th>Issue Type</th>\n",
              "      <th>Issue key</th>\n",
              "      <th>Summary</th>\n",
              "      <th>Reporter</th>\n",
              "      <th>Sprint</th>\n",
              "      <th>Components</th>\n",
              "    </tr>\n",
              "  </thead>\n",
              "  <tbody>\n",
              "    <tr>\n",
              "      <th>0</th>\n",
              "      <td>Story</td>\n",
              "      <td>OFE-47042</td>\n",
              "      <td>CR | UK &amp; IR | Payments | Move iframe presenta...</td>\n",
              "      <td>Tinu Alex</td>\n",
              "      <td>NaN</td>\n",
              "      <td>Commerce Team 1</td>\n",
              "    </tr>\n",
              "    <tr>\n",
              "      <th>1</th>\n",
              "      <td>Story</td>\n",
              "      <td>OFE-44231</td>\n",
              "      <td>Dev Only story - Reevoo Integration Modificati...</td>\n",
              "      <td>Rajesh Chenna</td>\n",
              "      <td>T1 - Sprint 34</td>\n",
              "      <td>Commerce Team 1</td>\n",
              "    </tr>\n",
              "    <tr>\n",
              "      <th>2</th>\n",
              "      <td>Story</td>\n",
              "      <td>OFE-42710</td>\n",
              "      <td>Regression test IR site on high level</td>\n",
              "      <td>Rajesh Chenna</td>\n",
              "      <td>T1 - Sprint 33</td>\n",
              "      <td>Commerce Team 1</td>\n",
              "    </tr>\n",
              "    <tr>\n",
              "      <th>3</th>\n",
              "      <td>Story</td>\n",
              "      <td>OFE-42690</td>\n",
              "      <td>Ireland - My Account-Order tracking link</td>\n",
              "      <td>lalana</td>\n",
              "      <td>T1 â€“ Sprint 23</td>\n",
              "      <td>Commerce Team 1</td>\n",
              "    </tr>\n",
              "    <tr>\n",
              "      <th>4</th>\n",
              "      <td>Story</td>\n",
              "      <td>OFE-42037</td>\n",
              "      <td>Ireland- Display delivery Charges for Small Bo...</td>\n",
              "      <td>Hakim Upadhyay</td>\n",
              "      <td>T1 - Sprint 33</td>\n",
              "      <td>Commerce Team 1</td>\n",
              "    </tr>\n",
              "  </tbody>\n",
              "</table>\n",
              "</div>\n",
              "      <button class=\"colab-df-convert\" onclick=\"convertToInteractive('df-870fb344-dbab-4b2d-a260-2ed61dcc34ea')\"\n",
              "              title=\"Convert this dataframe to an interactive table.\"\n",
              "              style=\"display:none;\">\n",
              "        \n",
              "  <svg xmlns=\"http://www.w3.org/2000/svg\" height=\"24px\"viewBox=\"0 0 24 24\"\n",
              "       width=\"24px\">\n",
              "    <path d=\"M0 0h24v24H0V0z\" fill=\"none\"/>\n",
              "    <path d=\"M18.56 5.44l.94 2.06.94-2.06 2.06-.94-2.06-.94-.94-2.06-.94 2.06-2.06.94zm-11 1L8.5 8.5l.94-2.06 2.06-.94-2.06-.94L8.5 2.5l-.94 2.06-2.06.94zm10 10l.94 2.06.94-2.06 2.06-.94-2.06-.94-.94-2.06-.94 2.06-2.06.94z\"/><path d=\"M17.41 7.96l-1.37-1.37c-.4-.4-.92-.59-1.43-.59-.52 0-1.04.2-1.43.59L10.3 9.45l-7.72 7.72c-.78.78-.78 2.05 0 2.83L4 21.41c.39.39.9.59 1.41.59.51 0 1.02-.2 1.41-.59l7.78-7.78 2.81-2.81c.8-.78.8-2.07 0-2.86zM5.41 20L4 18.59l7.72-7.72 1.47 1.35L5.41 20z\"/>\n",
              "  </svg>\n",
              "      </button>\n",
              "      \n",
              "  <style>\n",
              "    .colab-df-container {\n",
              "      display:flex;\n",
              "      flex-wrap:wrap;\n",
              "      gap: 12px;\n",
              "    }\n",
              "\n",
              "    .colab-df-convert {\n",
              "      background-color: #E8F0FE;\n",
              "      border: none;\n",
              "      border-radius: 50%;\n",
              "      cursor: pointer;\n",
              "      display: none;\n",
              "      fill: #1967D2;\n",
              "      height: 32px;\n",
              "      padding: 0 0 0 0;\n",
              "      width: 32px;\n",
              "    }\n",
              "\n",
              "    .colab-df-convert:hover {\n",
              "      background-color: #E2EBFA;\n",
              "      box-shadow: 0px 1px 2px rgba(60, 64, 67, 0.3), 0px 1px 3px 1px rgba(60, 64, 67, 0.15);\n",
              "      fill: #174EA6;\n",
              "    }\n",
              "\n",
              "    [theme=dark] .colab-df-convert {\n",
              "      background-color: #3B4455;\n",
              "      fill: #D2E3FC;\n",
              "    }\n",
              "\n",
              "    [theme=dark] .colab-df-convert:hover {\n",
              "      background-color: #434B5C;\n",
              "      box-shadow: 0px 1px 3px 1px rgba(0, 0, 0, 0.15);\n",
              "      filter: drop-shadow(0px 1px 2px rgba(0, 0, 0, 0.3));\n",
              "      fill: #FFFFFF;\n",
              "    }\n",
              "  </style>\n",
              "\n",
              "      <script>\n",
              "        const buttonEl =\n",
              "          document.querySelector('#df-870fb344-dbab-4b2d-a260-2ed61dcc34ea button.colab-df-convert');\n",
              "        buttonEl.style.display =\n",
              "          google.colab.kernel.accessAllowed ? 'block' : 'none';\n",
              "\n",
              "        async function convertToInteractive(key) {\n",
              "          const element = document.querySelector('#df-870fb344-dbab-4b2d-a260-2ed61dcc34ea');\n",
              "          const dataTable =\n",
              "            await google.colab.kernel.invokeFunction('convertToInteractive',\n",
              "                                                     [key], {});\n",
              "          if (!dataTable) return;\n",
              "\n",
              "          const docLinkHtml = 'Like what you see? Visit the ' +\n",
              "            '<a target=\"_blank\" href=https://colab.research.google.com/notebooks/data_table.ipynb>data table notebook</a>'\n",
              "            + ' to learn more about interactive tables.';\n",
              "          element.innerHTML = '';\n",
              "          dataTable['output_type'] = 'display_data';\n",
              "          await google.colab.output.renderOutput(dataTable, element);\n",
              "          const docLink = document.createElement('div');\n",
              "          docLink.innerHTML = docLinkHtml;\n",
              "          element.appendChild(docLink);\n",
              "        }\n",
              "      </script>\n",
              "    </div>\n",
              "  </div>\n",
              "  "
            ]
          },
          "metadata": {},
          "execution_count": 2
        }
      ]
    },
    {
      "cell_type": "code",
      "source": [
        "## Now we will try to create embedding vectors for the summary column\n",
        "df.Summary[0]"
      ],
      "metadata": {
        "colab": {
          "base_uri": "https://localhost:8080/",
          "height": 36
        },
        "id": "8jrVM8LkMnpO",
        "outputId": "622e9823-1061-4116-dac8-3ecc5cd31719"
      },
      "execution_count": 6,
      "outputs": [
        {
          "output_type": "execute_result",
          "data": {
            "text/plain": [
              "'CR | UK & IR | Payments | Move iframe presentation of card payment to dedicated page'"
            ],
            "application/vnd.google.colaboratory.intrinsic+json": {
              "type": "string"
            }
          },
          "metadata": {},
          "execution_count": 6
        }
      ]
    },
    {
      "cell_type": "code",
      "source": [
        "from gensim.utils import simple_preprocess  \n",
        "summary_text = df.Summary.apply(simple_preprocess)"
      ],
      "metadata": {
        "id": "UHQIyMyKNWNy"
      },
      "execution_count": null,
      "outputs": []
    },
    {
      "cell_type": "code",
      "source": [
        "summary_text"
      ],
      "metadata": {
        "colab": {
          "base_uri": "https://localhost:8080/"
        },
        "id": "JWdvnrE_OvtQ",
        "outputId": "113baff9-b2ea-4f9b-8094-8bf282910c57"
      },
      "execution_count": 8,
      "outputs": [
        {
          "output_type": "execute_result",
          "data": {
            "text/plain": [
              "0       [cr, uk, ir, payments, move, iframe, presentat...\n",
              "1       [dev, only, story, reevoo, integration, modifi...\n",
              "2           [regression, test, ir, site, on, high, level]\n",
              "3           [ireland, my, account, order, tracking, link]\n",
              "4       [ireland, display, delivery, charges, for, sma...\n",
              "                              ...                        \n",
              "4056    [stores, import, job, failed, when, more, than...\n",
              "4057    [pricebook, jobs, failing, if, more, than, one...\n",
              "4058    [regression, dcg, importprice, book, delta, jo...\n",
              "4059    [import, jobsteps, not, configured, in, qa, in...\n",
              "4060    [pricebook, clean, up, job, not, deleting, fil...\n",
              "Name: Summary, Length: 4061, dtype: object"
            ]
          },
          "metadata": {},
          "execution_count": 8
        }
      ]
    },
    {
      "cell_type": "code",
      "source": [
        "## Simple_preprocess has removed punctuation, stop words, and lowercased all the texts"
      ],
      "metadata": {
        "id": "ALNGxjuePHJv"
      },
      "execution_count": 9,
      "outputs": []
    },
    {
      "cell_type": "code",
      "source": [
        "print(f\"Textual data before preprocessing --> {df.Summary.loc[0]}\")\n",
        "print(f\"Textual data after preprocessing--> {summary_text.loc[0]}\")"
      ],
      "metadata": {
        "colab": {
          "base_uri": "https://localhost:8080/"
        },
        "id": "iRUuBvqjPVK3",
        "outputId": "34b255b6-958c-408d-95c8-4fa94a517f10"
      },
      "execution_count": 13,
      "outputs": [
        {
          "output_type": "stream",
          "name": "stdout",
          "text": [
            "Textual data before preprocessing --> CR | UK & IR | Payments | Move iframe presentation of card payment to dedicated page\n",
            "Textual data after preprocessing--> ['cr', 'uk', 'ir', 'payments', 'move', 'iframe', 'presentation', 'of', 'card', 'payment', 'to', 'dedicated', 'page']\n"
          ]
        }
      ]
    },
    {
      "cell_type": "markdown",
      "source": [
        "## Training the Word2Vec Model\n",
        "Train the model for reviews. Use a window of size 10 i.e. 10 words before the present word and 10 words ahead. Remember the formula (2k+1). A sentence with at least 2 words should only be considered, configure this using min_count parameter.\n",
        "\n",
        "Workers define how many CPU threads to be used."
      ],
      "metadata": {
        "id": "5xo8DMpWQsSu"
      }
    },
    {
      "cell_type": "code",
      "source": [
        "import gensim"
      ],
      "metadata": {
        "id": "ZQ8NQkRXQsEu"
      },
      "execution_count": 14,
      "outputs": []
    },
    {
      "cell_type": "code",
      "source": [
        "##"
      ],
      "metadata": {
        "id": "HE9Tj0sFRPRe"
      },
      "execution_count": null,
      "outputs": []
    },
    {
      "cell_type": "markdown",
      "source": [
        "## Initialize the model"
      ],
      "metadata": {
        "id": "LOj-JEoRRR0H"
      }
    },
    {
      "cell_type": "code",
      "source": [
        "model = gensim.models.Word2Vec(\n",
        "    window = 10,\n",
        "    min_count = 4,\n",
        "    workers = 4,\n",
        ")"
      ],
      "metadata": {
        "id": "5nGyMOdcPZPv"
      },
      "execution_count": 15,
      "outputs": []
    },
    {
      "cell_type": "markdown",
      "source": [
        "## Building the vocabulary"
      ],
      "metadata": {
        "id": "GT7Qwc0zRTe9"
      }
    },
    {
      "cell_type": "code",
      "source": [
        "model.build_vocab(summary_text, progress_per=10)\n"
      ],
      "metadata": {
        "colab": {
          "base_uri": "https://localhost:8080/"
        },
        "id": "1jbDbxhbRMVF",
        "outputId": "bb272987-884b-48ea-fd17-850530acc413"
      },
      "execution_count": 20,
      "outputs": [
        {
          "output_type": "execute_result",
          "data": {
            "text/plain": [
              "4061"
            ]
          },
          "metadata": {},
          "execution_count": 20
        }
      ]
    },
    {
      "cell_type": "code",
      "source": [
        "model.corpus_count  ## this shows count of sentences"
      ],
      "metadata": {
        "colab": {
          "base_uri": "https://localhost:8080/"
        },
        "id": "taFFFVsmSdYd",
        "outputId": "75cd674a-b2f0-4f0b-d3e1-cad818cdf737"
      },
      "execution_count": 21,
      "outputs": [
        {
          "output_type": "execute_result",
          "data": {
            "text/plain": [
              "4061"
            ]
          },
          "metadata": {},
          "execution_count": 21
        }
      ]
    },
    {
      "cell_type": "code",
      "source": [
        "model.corpus_total_words  ## this shows count of words"
      ],
      "metadata": {
        "colab": {
          "base_uri": "https://localhost:8080/"
        },
        "id": "nselfBWMSejR",
        "outputId": "f4633259-6e35-4f13-c1ad-df43f0a3e0e9"
      },
      "execution_count": 23,
      "outputs": [
        {
          "output_type": "execute_result",
          "data": {
            "text/plain": [
              "45005"
            ]
          },
          "metadata": {},
          "execution_count": 23
        }
      ]
    },
    {
      "cell_type": "code",
      "source": [
        "45005//4061 # so roughly 11 words in each sentence"
      ],
      "metadata": {
        "colab": {
          "base_uri": "https://localhost:8080/"
        },
        "id": "SIrrnZo3T9jG",
        "outputId": "65bce2cc-f9cf-4428-da74-17a72a7c79d8"
      },
      "execution_count": 25,
      "outputs": [
        {
          "output_type": "execute_result",
          "data": {
            "text/plain": [
              "11"
            ]
          },
          "metadata": {},
          "execution_count": 25
        }
      ]
    },
    {
      "cell_type": "markdown",
      "source": [
        "## Train the Word2Vec Model"
      ],
      "metadata": {
        "id": "bs96tJWVRhkt"
      }
    },
    {
      "cell_type": "code",
      "source": [
        "model.train(sentences=summary_text, siz total_examples=model.corpus_count, epochs = 10)"
      ],
      "metadata": {
        "colab": {
          "base_uri": "https://localhost:8080/"
        },
        "id": "7DQNBCBARe6g",
        "outputId": "5876abb6-528e-484b-c746-51c4fded1746"
      },
      "execution_count": 26,
      "outputs": [
        {
          "output_type": "execute_result",
          "data": {
            "text/plain": [
              "(293609, 450050)"
            ]
          },
          "metadata": {},
          "execution_count": 26
        }
      ]
    },
    {
      "cell_type": "markdown",
      "source": [
        "## Saving the model"
      ],
      "metadata": {
        "id": "CCH999gFUZ8v"
      }
    },
    {
      "cell_type": "code",
      "source": [
        "model.save('./Word2vec_embedding_model_for_summary.model')"
      ],
      "metadata": {
        "id": "IN6OOHpnUVbl"
      },
      "execution_count": 27,
      "outputs": []
    },
    {
      "cell_type": "code",
      "source": [
        "## Let's find some similar words\n",
        "model.wv.most_similar(['credit'])"
      ],
      "metadata": {
        "colab": {
          "base_uri": "https://localhost:8080/"
        },
        "id": "Awgptm_mUiuP",
        "outputId": "931ac4e9-439e-4c0c-bfe2-ccec68f87f01"
      },
      "execution_count": 34,
      "outputs": [
        {
          "output_type": "execute_result",
          "data": {
            "text/plain": [
              "[('flexible', 0.9969898462295532),\n",
              " ('monthly', 0.9889542460441589),\n",
              " ('methods', 0.9885212182998657),\n",
              " ('plans', 0.9882399439811707),\n",
              " ('make', 0.988222599029541),\n",
              " ('and', 0.9879462718963623),\n",
              " ('service', 0.9875837564468384),\n",
              " ('payments', 0.9874945878982544),\n",
              " ('payment', 0.987390398979187),\n",
              " ('paypal', 0.9869648218154907)]"
            ]
          },
          "metadata": {},
          "execution_count": 34
        }
      ]
    },
    {
      "cell_type": "code",
      "source": [
        "model.wv.similarity(w1 = 'credit', w2 = 'flexible')"
      ],
      "metadata": {
        "colab": {
          "base_uri": "https://localhost:8080/"
        },
        "id": "zxmW_Ju6Urrf",
        "outputId": "7bf89653-2208-4c7d-926c-019fc8c1fbb8"
      },
      "execution_count": 32,
      "outputs": [
        {
          "output_type": "execute_result",
          "data": {
            "text/plain": [
              "0.99698985"
            ]
          },
          "metadata": {},
          "execution_count": 32
        }
      ]
    },
    {
      "cell_type": "code",
      "source": [
        "model.wv.vectors"
      ],
      "metadata": {
        "colab": {
          "base_uri": "https://localhost:8080/"
        },
        "id": "vHmO9Q80U6me",
        "outputId": "929577a1-9aad-4bdb-ae66-2af47ce128f5"
      },
      "execution_count": 38,
      "outputs": [
        {
          "output_type": "execute_result",
          "data": {
            "text/plain": [
              "array([[ 0.2668538 ,  0.12194162, -0.11175601, ...,  0.01995738,\n",
              "         0.07028082, -0.24609695],\n",
              "       [ 0.18971196,  0.08765385, -0.07493036, ...,  0.01947958,\n",
              "         0.04180993, -0.1591709 ],\n",
              "       [ 0.21144219,  0.09597082, -0.09011148, ..., -0.00334885,\n",
              "         0.01524726, -0.18939799],\n",
              "       ...,\n",
              "       [ 0.07266812,  0.03267934, -0.02352579, ...,  0.00263737,\n",
              "         0.01749845, -0.05805304],\n",
              "       [ 0.15309505,  0.05910572, -0.05738068, ...,  0.0117917 ,\n",
              "         0.02945195, -0.1271128 ],\n",
              "       [ 0.22563536,  0.09813688, -0.0890478 , ...,  0.02211554,\n",
              "         0.04683841, -0.19809695]], dtype=float32)"
            ]
          },
          "metadata": {},
          "execution_count": 38
        }
      ]
    },
    {
      "cell_type": "code",
      "source": [
        "len(model['credit'])"
      ],
      "metadata": {
        "id": "MvS5S1NcVeSN",
        "outputId": "7ef8e8bf-3215-4a93-b88e-f6e310e259d0",
        "colab": {
          "base_uri": "https://localhost:8080/"
        }
      },
      "execution_count": 41,
      "outputs": [
        {
          "output_type": "stream",
          "name": "stderr",
          "text": [
            "/usr/local/lib/python3.7/dist-packages/ipykernel_launcher.py:1: DeprecationWarning: Call to deprecated `__getitem__` (Method will be removed in 4.0.0, use self.wv.__getitem__() instead).\n",
            "  \"\"\"Entry point for launching an IPython kernel.\n"
          ]
        },
        {
          "output_type": "execute_result",
          "data": {
            "text/plain": [
              "100"
            ]
          },
          "metadata": {},
          "execution_count": 41
        }
      ]
    },
    {
      "cell_type": "code",
      "source": [
        "model.wv['credit'].__len__()"
      ],
      "metadata": {
        "id": "lCZ_v5OVWo12",
        "outputId": "8d4ba5fc-6c55-4bdb-c2ea-ee6bcb6faf74",
        "colab": {
          "base_uri": "https://localhost:8080/"
        }
      },
      "execution_count": 43,
      "outputs": [
        {
          "output_type": "execute_result",
          "data": {
            "text/plain": [
              "100"
            ]
          },
          "metadata": {},
          "execution_count": 43
        }
      ]
    },
    {
      "cell_type": "code",
      "source": [
        ""
      ],
      "metadata": {
        "id": "BuFLjyazYt2f"
      },
      "execution_count": null,
      "outputs": []
    }
  ]
}
{
  "nbformat": 4,
  "nbformat_minor": 0,
  "metadata": {
    "colab": {
      "name": "NLP techniques for word embedding/encoding.ipynb",
      "provenance": [],
      "mount_file_id": "1iIyAkjTz_CC1_V2MAL0XdIP3pz0vJAim",
      "authorship_tag": "ABX9TyNJnNKRRHS6dOMbj2P8wGSb",
      "include_colab_link": true
    },
    "kernelspec": {
      "name": "python3",
      "display_name": "Python 3"
    },
    "language_info": {
      "name": "python"
    }
  },
  "cells": [
    {
      "cell_type": "markdown",
      "metadata": {
        "id": "view-in-github",
        "colab_type": "text"
      },
      "source": [
        "<a href=\"https://colab.research.google.com/github/iamatul1214/NLP/blob/main/NLP_techniques_for_text_encoding.ipynb\" target=\"_parent\"><img src=\"https://colab.research.google.com/assets/colab-badge.svg\" alt=\"Open In Colab\"/></a>"
      ]
    },
    {
      "cell_type": "code",
      "execution_count": 2,
      "metadata": {
        "id": "eRS6QtrErlCo"
      },
      "outputs": [],
      "source": [
        "## Sentences\n",
        "D1 = \"Dog bites man\"\n",
        "D2 = \"Man bites dog\"\n",
        "D3 = \"Dog eats meat\"\n",
        "D4 = \"Man eats food\""
      ]
    },
    {
      "cell_type": "code",
      "source": [
        "preprocessed_docs = []\n",
        "preprocessed_docs.append(D1)\n",
        "preprocessed_docs.append(D2)\n",
        "preprocessed_docs.append(D3)\n",
        "preprocessed_docs.append(D4)                                                 \n",
        "preprocessed_docs"
      ],
      "metadata": {
        "colab": {
          "base_uri": "https://localhost:8080/"
        },
        "id": "0CK3RTDctBKh",
        "outputId": "2ff1fb6c-99b4-4c8d-9186-8bbd27a20f7e"
      },
      "execution_count": 3,
      "outputs": [
        {
          "output_type": "execute_result",
          "data": {
            "text/plain": [
              "['Dog bites man', 'Man bites dog', 'Dog eats meat', 'Man eats food']"
            ]
          },
          "metadata": {},
          "execution_count": 3
        }
      ]
    },
    {
      "cell_type": "code",
      "source": [
        "## making all the words in lowercase\n",
        "for i in range(len(preprocessed_docs)):\n",
        "  preprocessed_docs[i] = preprocessed_docs[i].lower()\n",
        "preprocessed_docs"
      ],
      "metadata": {
        "colab": {
          "base_uri": "https://localhost:8080/"
        },
        "id": "e5O05g_FpUOC",
        "outputId": "89e33168-c269-4376-957a-ab69b69c0e02"
      },
      "execution_count": 13,
      "outputs": [
        {
          "output_type": "execute_result",
          "data": {
            "text/plain": [
              "['dog bites man', 'man bites dog', 'dog eats meat', 'man eats food']"
            ]
          },
          "metadata": {},
          "execution_count": 13
        }
      ]
    },
    {
      "cell_type": "code",
      "source": [
        "for words in D1.split():\n",
        "  print(words)"
      ],
      "metadata": {
        "colab": {
          "base_uri": "https://localhost:8080/"
        },
        "id": "FkR6fLVMucPN",
        "outputId": "f292b693-9811-4747-bacb-f981138f5578"
      },
      "execution_count": 6,
      "outputs": [
        {
          "output_type": "stream",
          "name": "stdout",
          "text": [
            "Dog\n",
            "bites\n",
            "man\n"
          ]
        }
      ]
    },
    {
      "cell_type": "code",
      "source": [
        "words = [word for sentence in preprocessed_docs for word in sentence.split()]\n",
        "vocab = list(set(words))\n",
        "vocab"
      ],
      "metadata": {
        "colab": {
          "base_uri": "https://localhost:8080/"
        },
        "id": "ujrSz2Tftrln",
        "outputId": "36ba40f3-ef32-47fd-bbd7-0fc56b03ec89"
      },
      "execution_count": 7,
      "outputs": [
        {
          "output_type": "execute_result",
          "data": {
            "text/plain": [
              "['man', 'Dog', 'Man', 'dog', 'eats', 'food', 'meat', 'bites']"
            ]
          },
          "metadata": {},
          "execution_count": 7
        }
      ]
    },
    {
      "cell_type": "code",
      "source": [
        "## First Let's use one hot encoding for this\n",
        "def get_onehot_vector(somestring):\n",
        "  onehot_encoded = []\n",
        "  for word in somestring.split():\n",
        "    temp = [0]*len(vocab)\n",
        "    if word in vocab:\n",
        "\n",
        "      temp[vocab[word]-1] = 1\n",
        "      onehot_encoded.append(temp)\n",
        "\n",
        "  return onehot_encoded\n",
        "get_onehot_vector(preprocessed_docs[1])"
      ],
      "metadata": {
        "colab": {
          "base_uri": "https://localhost:8080/",
          "height": 322
        },
        "id": "E7D-ClsNsFni",
        "outputId": "ea3d78e5-4275-48e7-9e85-6e9d4578ac8d"
      },
      "execution_count": 8,
      "outputs": [
        {
          "output_type": "error",
          "ename": "TypeError",
          "evalue": "ignored",
          "traceback": [
            "\u001b[0;31m---------------------------------------------------------------------------\u001b[0m",
            "\u001b[0;31mTypeError\u001b[0m                                 Traceback (most recent call last)",
            "\u001b[0;32m<ipython-input-8-26776d56d7b6>\u001b[0m in \u001b[0;36m<module>\u001b[0;34m\u001b[0m\n\u001b[1;32m     10\u001b[0m \u001b[0;34m\u001b[0m\u001b[0m\n\u001b[1;32m     11\u001b[0m   \u001b[0;32mreturn\u001b[0m \u001b[0monehot_encoded\u001b[0m\u001b[0;34m\u001b[0m\u001b[0;34m\u001b[0m\u001b[0m\n\u001b[0;32m---> 12\u001b[0;31m \u001b[0mget_onehot_vector\u001b[0m\u001b[0;34m(\u001b[0m\u001b[0mpreprocessed_docs\u001b[0m\u001b[0;34m[\u001b[0m\u001b[0;36m1\u001b[0m\u001b[0;34m]\u001b[0m\u001b[0;34m)\u001b[0m\u001b[0;34m\u001b[0m\u001b[0;34m\u001b[0m\u001b[0m\n\u001b[0m",
            "\u001b[0;32m<ipython-input-8-26776d56d7b6>\u001b[0m in \u001b[0;36mget_onehot_vector\u001b[0;34m(somestring)\u001b[0m\n\u001b[1;32m      6\u001b[0m     \u001b[0;32mif\u001b[0m \u001b[0mword\u001b[0m \u001b[0;32min\u001b[0m \u001b[0mvocab\u001b[0m\u001b[0;34m:\u001b[0m\u001b[0;34m\u001b[0m\u001b[0;34m\u001b[0m\u001b[0m\n\u001b[1;32m      7\u001b[0m \u001b[0;34m\u001b[0m\u001b[0m\n\u001b[0;32m----> 8\u001b[0;31m       \u001b[0mtemp\u001b[0m\u001b[0;34m[\u001b[0m\u001b[0mvocab\u001b[0m\u001b[0;34m[\u001b[0m\u001b[0mword\u001b[0m\u001b[0;34m]\u001b[0m\u001b[0;34m-\u001b[0m\u001b[0;36m1\u001b[0m\u001b[0;34m]\u001b[0m \u001b[0;34m=\u001b[0m \u001b[0;36m1\u001b[0m\u001b[0;34m\u001b[0m\u001b[0;34m\u001b[0m\u001b[0m\n\u001b[0m\u001b[1;32m      9\u001b[0m       \u001b[0monehot_encoded\u001b[0m\u001b[0;34m.\u001b[0m\u001b[0mappend\u001b[0m\u001b[0;34m(\u001b[0m\u001b[0mtemp\u001b[0m\u001b[0;34m)\u001b[0m\u001b[0;34m\u001b[0m\u001b[0;34m\u001b[0m\u001b[0m\n\u001b[1;32m     10\u001b[0m \u001b[0;34m\u001b[0m\u001b[0m\n",
            "\u001b[0;31mTypeError\u001b[0m: list indices must be integers or slices, not str"
          ]
        }
      ]
    },
    {
      "cell_type": "markdown",
      "source": [
        "## Bag of words (BoW)"
      ],
      "metadata": {
        "id": "PI-g-JwEqmGq"
      }
    },
    {
      "cell_type": "code",
      "source": [
        "from sklearn.feature_extraction.text import CountVectorizer\n",
        "count_vect = CountVectorizer()\n",
        "count_vect"
      ],
      "metadata": {
        "colab": {
          "base_uri": "https://localhost:8080/"
        },
        "id": "HzAEdnk2sHUc",
        "outputId": "54c56fd2-d895-4926-ada0-9462739c43f2"
      },
      "execution_count": 14,
      "outputs": [
        {
          "output_type": "execute_result",
          "data": {
            "text/plain": [
              "CountVectorizer()"
            ]
          },
          "metadata": {},
          "execution_count": 14
        }
      ]
    },
    {
      "cell_type": "code",
      "source": [
        "bow_rep = count_vect.fit_transform(preprocessed_docs)\n",
        "bow_rep"
      ],
      "metadata": {
        "colab": {
          "base_uri": "https://localhost:8080/"
        },
        "id": "yRqKyajtvZfQ",
        "outputId": "8d58b88d-b7f7-4272-ee76-114c083c0feb"
      },
      "execution_count": 15,
      "outputs": [
        {
          "output_type": "execute_result",
          "data": {
            "text/plain": [
              "<4x6 sparse matrix of type '<class 'numpy.int64'>'\n",
              "\twith 12 stored elements in Compressed Sparse Row format>"
            ]
          },
          "metadata": {},
          "execution_count": 15
        }
      ]
    },
    {
      "cell_type": "code",
      "source": [
        "print(\"Our vocabulary: \", count_vect.vocabulary_)"
      ],
      "metadata": {
        "colab": {
          "base_uri": "https://localhost:8080/"
        },
        "id": "B4XyDrxqvg_m",
        "outputId": "bfc655bd-c812-459a-988b-4ee221168199"
      },
      "execution_count": 16,
      "outputs": [
        {
          "output_type": "stream",
          "name": "stdout",
          "text": [
            "Our vocabulary:  {'dog': 1, 'bites': 0, 'man': 4, 'eats': 2, 'meat': 5, 'food': 3}\n"
          ]
        }
      ]
    },
    {
      "cell_type": "code",
      "source": [
        "print(\"BoW representation for 'dog bites man': \", bow_rep[0].toarray())\n",
        "print(\"BoW representation for 'man bites dog: \",bow_rep[1].toarray())"
      ],
      "metadata": {
        "colab": {
          "base_uri": "https://localhost:8080/"
        },
        "id": "pxmEwficvmcf",
        "outputId": "3ae993d5-31f6-4317-d877-091db29d1915"
      },
      "execution_count": 21,
      "outputs": [
        {
          "output_type": "stream",
          "name": "stdout",
          "text": [
            "BoW representation for 'dog bites man':  [[1 1 0 0 1 0]]\n",
            "BoW representation for 'man bites dog:  [[1 1 0 0 1 0]]\n"
          ]
        }
      ]
    },
    {
      "cell_type": "code",
      "source": [
        "#Get the representation using this vocabulary, for a new text\n",
        "temp = count_vect.transform([\"dog and dog are friends\"])\n",
        "print(\"Bow representation for 'dog and dog are friends':\",temp.toarray())  ## Here dog is present twice that's why the count has increased to 2 for dog"
      ],
      "metadata": {
        "colab": {
          "base_uri": "https://localhost:8080/"
        },
        "id": "WnP7mQmiv72s",
        "outputId": "45107f8b-0030-4083-9f69-6a966c6c5fec"
      },
      "execution_count": 25,
      "outputs": [
        {
          "output_type": "stream",
          "name": "stdout",
          "text": [
            "Bow representation for 'dog and dog are friends': [[0 2 0 0 0 0]]\n"
          ]
        }
      ]
    },
    {
      "cell_type": "code",
      "source": [
        "temp = count_vect.transform([\"I love dog\"])\n",
        "print(\"Bow representation for 'dog and dog are friends':\",temp.toarray())"
      ],
      "metadata": {
        "colab": {
          "base_uri": "https://localhost:8080/"
        },
        "id": "LLLe_rNIrWig",
        "outputId": "a67b03f1-4cc7-4d78-f98a-7f1b1b96be14"
      },
      "execution_count": 24,
      "outputs": [
        {
          "output_type": "stream",
          "name": "stdout",
          "text": [
            "Bow representation for 'dog and dog are friends': [[0 1 0 0 0 0]]\n"
          ]
        }
      ]
    },
    {
      "cell_type": "code",
      "source": [
        "def check_representation_from_above_vocab(list_of_text):\n",
        "  temp = count_vect.transform(list_of_text)\n",
        "  print(f\"Representation of the {list_of_text} is as --> {temp.toarray()}\")\n",
        "check_representation_from_above_vocab(['A dog can undestand a man and another dog who loves to eat meat and food and meat'])"
      ],
      "metadata": {
        "colab": {
          "base_uri": "https://localhost:8080/"
        },
        "id": "y6wIs6mYw4o7",
        "outputId": "4e9d4a8c-c4ec-4fc0-aaec-ef35172d781a"
      },
      "execution_count": 26,
      "outputs": [
        {
          "output_type": "stream",
          "name": "stdout",
          "text": [
            "Representation of the ['A dog can undestand a man and another dog who loves to eat meat and food and meat'] is as --> [[0 2 0 1 1 2]]\n"
          ]
        }
      ]
    },
    {
      "cell_type": "code",
      "source": [
        "check_representation_from_above_vocab(['Man is enemny','Dog is friend','I love animals'])"
      ],
      "metadata": {
        "colab": {
          "base_uri": "https://localhost:8080/"
        },
        "id": "QFFR3myzq84a",
        "outputId": "8446043d-5197-4e28-b9f1-409420e409ea"
      },
      "execution_count": 27,
      "outputs": [
        {
          "output_type": "stream",
          "name": "stdout",
          "text": [
            "Representation of the ['Man is enemny', 'Dog is friend', 'I love animals'] is as --> [[0 0 0 0 1 0]\n",
            " [0 1 0 0 0 0]\n",
            " [0 0 0 0 0 0]]\n"
          ]
        }
      ]
    },
    {
      "cell_type": "code",
      "source": [
        ""
      ],
      "metadata": {
        "id": "RekQUWfwrA0i"
      },
      "execution_count": 28,
      "outputs": []
    },
    {
      "cell_type": "markdown",
      "source": [
        "### Bag of n-grams"
      ],
      "metadata": {
        "id": "jbzGWT6XPKM9"
      }
    },
    {
      "cell_type": "code",
      "source": [
        "#n-gram vectorization example with count vectorizer and uni, bi,trigrams\n",
        "count_vect = CountVectorizer(ngram_range=(1,3))\n",
        "#Build a BOW representation for the corpus\n",
        "bow_rep = count_vect.fit_transform(preprocessed_docs)  ## fit transform will create the vocabulary and transform will just convert \n",
        "#Look at the vocabulary mapping\n",
        "print(\"Our vocabulary: \", count_vect.vocabulary_)\n",
        "#Get the representation using this vocabulary, for a new text\n",
        "temp = count_vect.transform([\"dog and dog are friends\"])\n",
        "print(\"Bow representation for 'dog and dog are friends':\",\n",
        "temp.toarray())"
      ],
      "metadata": {
        "colab": {
          "base_uri": "https://localhost:8080/"
        },
        "id": "6qRVMDLztE9G",
        "outputId": "377df5dc-5cda-4f94-eae3-7b9e98e1e10c"
      },
      "execution_count": 29,
      "outputs": [
        {
          "output_type": "stream",
          "name": "stdout",
          "text": [
            "Our vocabulary:  {'dog': 3, 'bites': 0, 'man': 12, 'dog bites': 4, 'bites man': 2, 'dog bites man': 5, 'man bites': 13, 'bites dog': 1, 'man bites dog': 14, 'eats': 8, 'meat': 17, 'dog eats': 6, 'eats meat': 10, 'dog eats meat': 7, 'food': 11, 'man eats': 15, 'eats food': 9, 'man eats food': 16}\n",
            "Bow representation for 'dog and dog are friends': [[0 0 0 2 0 0 0 0 0 0 0 0 0 0 0 0 0 0]]\n"
          ]
        }
      ]
    },
    {
      "cell_type": "markdown",
      "source": [
        "## Term frequency Inverse document frequency (TF-IDF)"
      ],
      "metadata": {
        "id": "BXzPZPQYutGY"
      }
    },
    {
      "cell_type": "code",
      "source": [
        "from sklearn.feature_extraction.text import TfidfVectorizer\n",
        "tfid = TfidfVectorizer()\n",
        "tfid"
      ],
      "metadata": {
        "colab": {
          "base_uri": "https://localhost:8080/"
        },
        "id": "RRN1FeQ0tLgw",
        "outputId": "5edf62a8-a670-4176-ac84-2594c3177bad"
      },
      "execution_count": 30,
      "outputs": [
        {
          "output_type": "execute_result",
          "data": {
            "text/plain": [
              "TfidfVectorizer()"
            ]
          },
          "metadata": {},
          "execution_count": 30
        }
      ]
    },
    {
      "cell_type": "code",
      "source": [
        "bow_tfid = tfid.fit_transform(preprocessed_docs)\n",
        "print(f\"inverse document frequencies of our vocab = {tfid.idf_}\")  ## printing inverse document frequency for all the words\n",
        "print(f\"words of our vocab = {tfid.get_feature_names_out()}\")"
      ],
      "metadata": {
        "colab": {
          "base_uri": "https://localhost:8080/"
        },
        "id": "kzjWa0pnwQkO",
        "outputId": "9d6bcc86-c1e3-4c7e-db9f-91e5f3e028a3"
      },
      "execution_count": 39,
      "outputs": [
        {
          "output_type": "stream",
          "name": "stdout",
          "text": [
            "inverse document frequencies of our vocab = [1.51082562 1.22314355 1.51082562 1.91629073 1.22314355 1.91629073]\n",
            "words of our vocab = ['bites' 'dog' 'eats' 'food' 'man' 'meat']\n"
          ]
        }
      ]
    },
    {
      "cell_type": "code",
      "source": [
        "temp = tfid.transform(['Dog and man are friends'])\n",
        "print(temp.toarray())\n"
      ],
      "metadata": {
        "colab": {
          "base_uri": "https://localhost:8080/"
        },
        "id": "xIubBwaKwhc-",
        "outputId": "3c297e85-76b5-403c-f841-a0993d64aad5"
      },
      "execution_count": 40,
      "outputs": [
        {
          "output_type": "stream",
          "name": "stdout",
          "text": [
            "[[0.         0.70710678 0.         0.         0.70710678 0.        ]]\n"
          ]
        }
      ]
    },
    {
      "cell_type": "code",
      "source": [
        "def word_embedding_using_tfidf(list_of_texts):\n",
        "  temp = tfid.transform(list_of_texts)\n",
        "  print(f\"Representation of the {list_of_texts} --> {temp.toarray()}\")\n",
        "word_embedding_using_tfidf(['Hello my sweet dog','How are you','Man and dog are friends'])"
      ],
      "metadata": {
        "colab": {
          "base_uri": "https://localhost:8080/"
        },
        "id": "MuMm0fu3x8f5",
        "outputId": "6cc8c69c-ed89-4324-bf4a-c4321f8466a0"
      },
      "execution_count": 43,
      "outputs": [
        {
          "output_type": "stream",
          "name": "stdout",
          "text": [
            "Representation of the ['Hello my sweet dog', 'How are you', 'Man and dog are friends'] --> [[0.         1.         0.         0.         0.         0.        ]\n",
            " [0.         0.         0.         0.         0.         0.        ]\n",
            " [0.         0.70710678 0.         0.         0.70710678 0.        ]]\n"
          ]
        }
      ]
    },
    {
      "cell_type": "markdown",
      "source": [
        "### Word2Vec"
      ],
      "metadata": {
        "id": "p4cX6qK-Bk3V"
      }
    },
    {
      "cell_type": "markdown",
      "source": [
        "##### We will create vectors embedding here using word2vec on a common words dataset from gensim."
      ],
      "metadata": {
        "id": "fza-6hetDVC-"
      }
    },
    {
      "cell_type": "code",
      "source": [
        "from gensim.models import Word2Vec\n",
        "from gensim.test.utils import common_texts"
      ],
      "metadata": {
        "id": "jEY-Hte9ye6P"
      },
      "execution_count": 11,
      "outputs": []
    },
    {
      "cell_type": "code",
      "source": [
        "common_texts"
      ],
      "metadata": {
        "colab": {
          "base_uri": "https://localhost:8080/"
        },
        "id": "zGdDTsIVBorB",
        "outputId": "4ad76060-5a43-416a-f015-8ca42b970ce8"
      },
      "execution_count": 9,
      "outputs": [
        {
          "output_type": "execute_result",
          "data": {
            "text/plain": [
              "[['human', 'interface', 'computer'],\n",
              " ['survey', 'user', 'computer', 'system', 'response', 'time'],\n",
              " ['eps', 'user', 'interface', 'system'],\n",
              " ['system', 'human', 'system', 'eps'],\n",
              " ['user', 'response', 'time'],\n",
              " ['trees'],\n",
              " ['graph', 'trees'],\n",
              " ['graph', 'minors', 'trees'],\n",
              " ['graph', 'minors', 'survey']]"
            ]
          },
          "metadata": {},
          "execution_count": 9
        }
      ]
    },
    {
      "cell_type": "code",
      "source": [
        "## Let's create the model structure \n",
        "model = Word2Vec(window = 4, min_count=1, size = 10)\n",
        "## creating vocabulary for model\n",
        "model.build_vocab(common_texts, progress_per=10)"
      ],
      "metadata": {
        "colab": {
          "base_uri": "https://localhost:8080/"
        },
        "id": "RSfKtl7ZFPIH",
        "outputId": "2bd73567-db30-45d8-b793-66c77d99fcb9"
      },
      "execution_count": 17,
      "outputs": [
        {
          "output_type": "stream",
          "name": "stderr",
          "text": [
            "WARNING:gensim.models.base_any2vec:consider setting layer size to a multiple of 4 for greater performance\n"
          ]
        }
      ]
    },
    {
      "cell_type": "code",
      "source": [
        "model = Word2Vec(sentences = common_texts, size = 10, min_count = 1 , window = 4, workers = 2)\n",
        "model.save(\"Word2Vec_model_for_common_texts.model\")"
      ],
      "metadata": {
        "colab": {
          "base_uri": "https://localhost:8080/"
        },
        "id": "dz9Ag8KIB71k",
        "outputId": "0a94a322-a788-4b9b-a54e-8341debcba2b"
      },
      "execution_count": 18,
      "outputs": [
        {
          "output_type": "stream",
          "name": "stderr",
          "text": [
            "WARNING:gensim.models.base_any2vec:consider setting layer size to a multiple of 4 for greater performance\n",
            "WARNING:gensim.models.base_any2vec:under 10 jobs per worker: consider setting a smaller `batch_words' for smoother alpha decay\n"
          ]
        }
      ]
    },
    {
      "cell_type": "code",
      "source": [
        "## No of words in vocabulary\n",
        "model.corpus_count"
      ],
      "metadata": {
        "colab": {
          "base_uri": "https://localhost:8080/"
        },
        "id": "PT6k2VWzDKfp",
        "outputId": "d8ebe406-b625-40bf-d1c1-d3f07a0661d3"
      },
      "execution_count": 20,
      "outputs": [
        {
          "output_type": "execute_result",
          "data": {
            "text/plain": [
              "9"
            ]
          },
          "metadata": {},
          "execution_count": 20
        }
      ]
    },
    {
      "cell_type": "code",
      "source": [
        "##  \n",
        "model.wv.most_similar(['time'])"
      ],
      "metadata": {
        "colab": {
          "base_uri": "https://localhost:8080/"
        },
        "id": "I5Wf5kyRG48T",
        "outputId": "e6e47c9a-8d52-4f88-fee8-194d371710a3"
      },
      "execution_count": 25,
      "outputs": [
        {
          "output_type": "execute_result",
          "data": {
            "text/plain": [
              "[('computer', 0.40058329701423645),\n",
              " ('minors', 0.39076435565948486),\n",
              " ('system', 0.31562745571136475),\n",
              " ('response', 0.0943266749382019),\n",
              " ('survey', -0.11970004439353943),\n",
              " ('eps', -0.17673656344413757),\n",
              " ('human', -0.18255604803562164),\n",
              " ('trees', -0.18669553101062775),\n",
              " ('user', -0.27341869473457336),\n",
              " ('interface', -0.46185103058815)]"
            ]
          },
          "metadata": {},
          "execution_count": 25
        }
      ]
    },
    {
      "cell_type": "code",
      "source": [
        "model['time']   ## We will get vector representation of the word time here with size of 10 as we chose size = 10."
      ],
      "metadata": {
        "colab": {
          "base_uri": "https://localhost:8080/"
        },
        "id": "QtTiRqOtHLtw",
        "outputId": "c2521b10-909f-48be-aa9a-83ed417fb848"
      },
      "execution_count": 27,
      "outputs": [
        {
          "output_type": "stream",
          "name": "stderr",
          "text": [
            "/usr/local/lib/python3.7/dist-packages/ipykernel_launcher.py:1: DeprecationWarning: Call to deprecated `__getitem__` (Method will be removed in 4.0.0, use self.wv.__getitem__() instead).\n",
            "  \"\"\"Entry point for launching an IPython kernel.\n"
          ]
        },
        {
          "output_type": "execute_result",
          "data": {
            "text/plain": [
              "array([-0.00441051, -0.03833511,  0.01181043,  0.01162867,  0.00318968,\n",
              "        0.00275365, -0.0242518 ,  0.03786813, -0.03187563, -0.01673054],\n",
              "      dtype=float32)"
            ]
          },
          "metadata": {},
          "execution_count": 27
        }
      ]
    },
    {
      "cell_type": "code",
      "source": [
        ""
      ],
      "metadata": {
        "id": "Gup9wwFAHtTx"
      },
      "execution_count": null,
      "outputs": []
    }
  ]
}
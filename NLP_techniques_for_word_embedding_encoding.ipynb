{
  "nbformat": 4,
  "nbformat_minor": 0,
  "metadata": {
    "colab": {
      "name": "NLP techniques for word embedding/encoding.ipynb",
      "provenance": [],
      "authorship_tag": "ABX9TyPgVKloKftNyKpBZ1LbS+4C",
      "include_colab_link": true
    },
    "kernelspec": {
      "name": "python3",
      "display_name": "Python 3"
    },
    "language_info": {
      "name": "python"
    }
  },
  "cells": [
    {
      "cell_type": "markdown",
      "metadata": {
        "id": "view-in-github",
        "colab_type": "text"
      },
      "source": [
        "<a href=\"https://colab.research.google.com/github/iamatul1214/NLP/blob/main/NLP_techniques_for_word_embedding_encoding.ipynb\" target=\"_parent\"><img src=\"https://colab.research.google.com/assets/colab-badge.svg\" alt=\"Open In Colab\"/></a>"
      ]
    },
    {
      "cell_type": "code",
      "execution_count": 2,
      "metadata": {
        "id": "eRS6QtrErlCo"
      },
      "outputs": [],
      "source": [
        "## Sentences\n",
        "D1 = \"Dog bites man\"\n",
        "D2 = \"Man bites dog\"\n",
        "D3 = \"Dog eats meat\"\n",
        "D4 = \"Man eats food\""
      ]
    },
    {
      "cell_type": "code",
      "source": [
        "preprocessed_docs = []\n",
        "preprocessed_docs.append(D1)\n",
        "preprocessed_docs.append(D2)\n",
        "preprocessed_docs.append(D3)\n",
        "preprocessed_docs.append(D4)                                                 \n",
        "preprocessed_docs"
      ],
      "metadata": {
        "colab": {
          "base_uri": "https://localhost:8080/"
        },
        "id": "0CK3RTDctBKh",
        "outputId": "2ff1fb6c-99b4-4c8d-9186-8bbd27a20f7e"
      },
      "execution_count": 3,
      "outputs": [
        {
          "output_type": "execute_result",
          "data": {
            "text/plain": [
              "['Dog bites man', 'Man bites dog', 'Dog eats meat', 'Man eats food']"
            ]
          },
          "metadata": {},
          "execution_count": 3
        }
      ]
    },
    {
      "cell_type": "code",
      "source": [
        "## making all the words in lowercase\n",
        "for i in range(len(preprocessed_docs)):\n",
        "  preprocessed_docs[i] = preprocessed_docs[i].lower()\n",
        "preprocessed_docs"
      ],
      "metadata": {
        "colab": {
          "base_uri": "https://localhost:8080/"
        },
        "id": "e5O05g_FpUOC",
        "outputId": "89e33168-c269-4376-957a-ab69b69c0e02"
      },
      "execution_count": 13,
      "outputs": [
        {
          "output_type": "execute_result",
          "data": {
            "text/plain": [
              "['dog bites man', 'man bites dog', 'dog eats meat', 'man eats food']"
            ]
          },
          "metadata": {},
          "execution_count": 13
        }
      ]
    },
    {
      "cell_type": "code",
      "source": [
        "for words in D1.split():\n",
        "  print(words)"
      ],
      "metadata": {
        "colab": {
          "base_uri": "https://localhost:8080/"
        },
        "id": "FkR6fLVMucPN",
        "outputId": "f292b693-9811-4747-bacb-f981138f5578"
      },
      "execution_count": 6,
      "outputs": [
        {
          "output_type": "stream",
          "name": "stdout",
          "text": [
            "Dog\n",
            "bites\n",
            "man\n"
          ]
        }
      ]
    },
    {
      "cell_type": "code",
      "source": [
        "words = [word for sentence in preprocessed_docs for word in sentence.split()]\n",
        "vocab = list(set(words))\n",
        "vocab"
      ],
      "metadata": {
        "colab": {
          "base_uri": "https://localhost:8080/"
        },
        "id": "ujrSz2Tftrln",
        "outputId": "36ba40f3-ef32-47fd-bbd7-0fc56b03ec89"
      },
      "execution_count": 7,
      "outputs": [
        {
          "output_type": "execute_result",
          "data": {
            "text/plain": [
              "['man', 'Dog', 'Man', 'dog', 'eats', 'food', 'meat', 'bites']"
            ]
          },
          "metadata": {},
          "execution_count": 7
        }
      ]
    },
    {
      "cell_type": "code",
      "source": [
        "## First Let's use one hot encoding for this\n",
        "def get_onehot_vector(somestring):\n",
        "  onehot_encoded = []\n",
        "  for word in somestring.split():\n",
        "    temp = [0]*len(vocab)\n",
        "    if word in vocab:\n",
        "\n",
        "      temp[vocab[word]-1] = 1\n",
        "      onehot_encoded.append(temp)\n",
        "\n",
        "  return onehot_encoded\n",
        "get_onehot_vector(preprocessed_docs[1])"
      ],
      "metadata": {
        "colab": {
          "base_uri": "https://localhost:8080/",
          "height": 322
        },
        "id": "E7D-ClsNsFni",
        "outputId": "ea3d78e5-4275-48e7-9e85-6e9d4578ac8d"
      },
      "execution_count": 8,
      "outputs": [
        {
          "output_type": "error",
          "ename": "TypeError",
          "evalue": "ignored",
          "traceback": [
            "\u001b[0;31m---------------------------------------------------------------------------\u001b[0m",
            "\u001b[0;31mTypeError\u001b[0m                                 Traceback (most recent call last)",
            "\u001b[0;32m<ipython-input-8-26776d56d7b6>\u001b[0m in \u001b[0;36m<module>\u001b[0;34m\u001b[0m\n\u001b[1;32m     10\u001b[0m \u001b[0;34m\u001b[0m\u001b[0m\n\u001b[1;32m     11\u001b[0m   \u001b[0;32mreturn\u001b[0m \u001b[0monehot_encoded\u001b[0m\u001b[0;34m\u001b[0m\u001b[0;34m\u001b[0m\u001b[0m\n\u001b[0;32m---> 12\u001b[0;31m \u001b[0mget_onehot_vector\u001b[0m\u001b[0;34m(\u001b[0m\u001b[0mpreprocessed_docs\u001b[0m\u001b[0;34m[\u001b[0m\u001b[0;36m1\u001b[0m\u001b[0;34m]\u001b[0m\u001b[0;34m)\u001b[0m\u001b[0;34m\u001b[0m\u001b[0;34m\u001b[0m\u001b[0m\n\u001b[0m",
            "\u001b[0;32m<ipython-input-8-26776d56d7b6>\u001b[0m in \u001b[0;36mget_onehot_vector\u001b[0;34m(somestring)\u001b[0m\n\u001b[1;32m      6\u001b[0m     \u001b[0;32mif\u001b[0m \u001b[0mword\u001b[0m \u001b[0;32min\u001b[0m \u001b[0mvocab\u001b[0m\u001b[0;34m:\u001b[0m\u001b[0;34m\u001b[0m\u001b[0;34m\u001b[0m\u001b[0m\n\u001b[1;32m      7\u001b[0m \u001b[0;34m\u001b[0m\u001b[0m\n\u001b[0;32m----> 8\u001b[0;31m       \u001b[0mtemp\u001b[0m\u001b[0;34m[\u001b[0m\u001b[0mvocab\u001b[0m\u001b[0;34m[\u001b[0m\u001b[0mword\u001b[0m\u001b[0;34m]\u001b[0m\u001b[0;34m-\u001b[0m\u001b[0;36m1\u001b[0m\u001b[0;34m]\u001b[0m \u001b[0;34m=\u001b[0m \u001b[0;36m1\u001b[0m\u001b[0;34m\u001b[0m\u001b[0;34m\u001b[0m\u001b[0m\n\u001b[0m\u001b[1;32m      9\u001b[0m       \u001b[0monehot_encoded\u001b[0m\u001b[0;34m.\u001b[0m\u001b[0mappend\u001b[0m\u001b[0;34m(\u001b[0m\u001b[0mtemp\u001b[0m\u001b[0;34m)\u001b[0m\u001b[0;34m\u001b[0m\u001b[0;34m\u001b[0m\u001b[0m\n\u001b[1;32m     10\u001b[0m \u001b[0;34m\u001b[0m\u001b[0m\n",
            "\u001b[0;31mTypeError\u001b[0m: list indices must be integers or slices, not str"
          ]
        }
      ]
    },
    {
      "cell_type": "markdown",
      "source": [
        "## Bag of words (BoW)"
      ],
      "metadata": {
        "id": "PI-g-JwEqmGq"
      }
    },
    {
      "cell_type": "code",
      "source": [
        "from sklearn.feature_extraction.text import CountVectorizer\n",
        "count_vect = CountVectorizer()\n",
        "count_vect"
      ],
      "metadata": {
        "colab": {
          "base_uri": "https://localhost:8080/"
        },
        "id": "HzAEdnk2sHUc",
        "outputId": "54c56fd2-d895-4926-ada0-9462739c43f2"
      },
      "execution_count": 14,
      "outputs": [
        {
          "output_type": "execute_result",
          "data": {
            "text/plain": [
              "CountVectorizer()"
            ]
          },
          "metadata": {},
          "execution_count": 14
        }
      ]
    },
    {
      "cell_type": "code",
      "source": [
        "bow_rep = count_vect.fit_transform(preprocessed_docs)\n",
        "bow_rep"
      ],
      "metadata": {
        "colab": {
          "base_uri": "https://localhost:8080/"
        },
        "id": "yRqKyajtvZfQ",
        "outputId": "8d58b88d-b7f7-4272-ee76-114c083c0feb"
      },
      "execution_count": 15,
      "outputs": [
        {
          "output_type": "execute_result",
          "data": {
            "text/plain": [
              "<4x6 sparse matrix of type '<class 'numpy.int64'>'\n",
              "\twith 12 stored elements in Compressed Sparse Row format>"
            ]
          },
          "metadata": {},
          "execution_count": 15
        }
      ]
    },
    {
      "cell_type": "code",
      "source": [
        "print(\"Our vocabulary: \", count_vect.vocabulary_)"
      ],
      "metadata": {
        "colab": {
          "base_uri": "https://localhost:8080/"
        },
        "id": "B4XyDrxqvg_m",
        "outputId": "bfc655bd-c812-459a-988b-4ee221168199"
      },
      "execution_count": 16,
      "outputs": [
        {
          "output_type": "stream",
          "name": "stdout",
          "text": [
            "Our vocabulary:  {'dog': 1, 'bites': 0, 'man': 4, 'eats': 2, 'meat': 5, 'food': 3}\n"
          ]
        }
      ]
    },
    {
      "cell_type": "code",
      "source": [
        "print(\"BoW representation for 'dog bites man': \", bow_rep[0].toarray())\n",
        "print(\"BoW representation for 'man bites dog: \",bow_rep[1].toarray())"
      ],
      "metadata": {
        "colab": {
          "base_uri": "https://localhost:8080/"
        },
        "id": "pxmEwficvmcf",
        "outputId": "3ae993d5-31f6-4317-d877-091db29d1915"
      },
      "execution_count": 21,
      "outputs": [
        {
          "output_type": "stream",
          "name": "stdout",
          "text": [
            "BoW representation for 'dog bites man':  [[1 1 0 0 1 0]]\n",
            "BoW representation for 'man bites dog:  [[1 1 0 0 1 0]]\n"
          ]
        }
      ]
    },
    {
      "cell_type": "code",
      "source": [
        "#Get the representation using this vocabulary, for a new text\n",
        "temp = count_vect.transform([\"dog and dog are friends\"])\n",
        "print(\"Bow representation for 'dog and dog are friends':\",temp.toarray())  ## Here dog is present twice that's why the count has increased to 2 for dog"
      ],
      "metadata": {
        "colab": {
          "base_uri": "https://localhost:8080/"
        },
        "id": "WnP7mQmiv72s",
        "outputId": "45107f8b-0030-4083-9f69-6a966c6c5fec"
      },
      "execution_count": 25,
      "outputs": [
        {
          "output_type": "stream",
          "name": "stdout",
          "text": [
            "Bow representation for 'dog and dog are friends': [[0 2 0 0 0 0]]\n"
          ]
        }
      ]
    },
    {
      "cell_type": "code",
      "source": [
        "temp = count_vect.transform([\"I love dog\"])\n",
        "print(\"Bow representation for 'dog and dog are friends':\",temp.toarray())"
      ],
      "metadata": {
        "colab": {
          "base_uri": "https://localhost:8080/"
        },
        "id": "LLLe_rNIrWig",
        "outputId": "a67b03f1-4cc7-4d78-f98a-7f1b1b96be14"
      },
      "execution_count": 24,
      "outputs": [
        {
          "output_type": "stream",
          "name": "stdout",
          "text": [
            "Bow representation for 'dog and dog are friends': [[0 1 0 0 0 0]]\n"
          ]
        }
      ]
    },
    {
      "cell_type": "code",
      "source": [
        "def check_representation_from_above_vocab(list_of_text):\n",
        "  temp = count_vect.transform(list_of_text)\n",
        "  print(f\"Representation of the {list_of_text} is as --> {temp.toarray()}\")\n",
        "check_representation_from_above_vocab(['A dog can undestand a man and another dog who loves to eat meat and food and meat'])"
      ],
      "metadata": {
        "colab": {
          "base_uri": "https://localhost:8080/"
        },
        "id": "y6wIs6mYw4o7",
        "outputId": "4e9d4a8c-c4ec-4fc0-aaec-ef35172d781a"
      },
      "execution_count": 26,
      "outputs": [
        {
          "output_type": "stream",
          "name": "stdout",
          "text": [
            "Representation of the ['A dog can undestand a man and another dog who loves to eat meat and food and meat'] is as --> [[0 2 0 1 1 2]]\n"
          ]
        }
      ]
    },
    {
      "cell_type": "code",
      "source": [
        "check_representation_from_above_vocab(['Man is enemny','Dog is friend','I love animals'])"
      ],
      "metadata": {
        "colab": {
          "base_uri": "https://localhost:8080/"
        },
        "id": "QFFR3myzq84a",
        "outputId": "8446043d-5197-4e28-b9f1-409420e409ea"
      },
      "execution_count": 27,
      "outputs": [
        {
          "output_type": "stream",
          "name": "stdout",
          "text": [
            "Representation of the ['Man is enemny', 'Dog is friend', 'I love animals'] is as --> [[0 0 0 0 1 0]\n",
            " [0 1 0 0 0 0]\n",
            " [0 0 0 0 0 0]]\n"
          ]
        }
      ]
    },
    {
      "cell_type": "code",
      "source": [
        ""
      ],
      "metadata": {
        "id": "RekQUWfwrA0i"
      },
      "execution_count": 28,
      "outputs": []
    },
    {
      "cell_type": "markdown",
      "source": [
        "### Bag of n-grams"
      ],
      "metadata": {
        "id": "jbzGWT6XPKM9"
      }
    },
    {
      "cell_type": "code",
      "source": [
        "#n-gram vectorization example with count vectorizer and uni, bi,trigrams\n",
        "count_vect = CountVectorizer(ngram_range=(1,3))\n",
        "#Build a BOW representation for the corpus\n",
        "bow_rep = count_vect.fit_transform(preprocessed_docs)  ## fit transform will create the vocabulary and transform will just convert \n",
        "#Look at the vocabulary mapping\n",
        "print(\"Our vocabulary: \", count_vect.vocabulary_)\n",
        "#Get the representation using this vocabulary, for a new text\n",
        "temp = count_vect.transform([\"dog and dog are friends\"])\n",
        "print(\"Bow representation for 'dog and dog are friends':\",\n",
        "temp.toarray())"
      ],
      "metadata": {
        "colab": {
          "base_uri": "https://localhost:8080/"
        },
        "id": "6qRVMDLztE9G",
        "outputId": "377df5dc-5cda-4f94-eae3-7b9e98e1e10c"
      },
      "execution_count": 29,
      "outputs": [
        {
          "output_type": "stream",
          "name": "stdout",
          "text": [
            "Our vocabulary:  {'dog': 3, 'bites': 0, 'man': 12, 'dog bites': 4, 'bites man': 2, 'dog bites man': 5, 'man bites': 13, 'bites dog': 1, 'man bites dog': 14, 'eats': 8, 'meat': 17, 'dog eats': 6, 'eats meat': 10, 'dog eats meat': 7, 'food': 11, 'man eats': 15, 'eats food': 9, 'man eats food': 16}\n",
            "Bow representation for 'dog and dog are friends': [[0 0 0 2 0 0 0 0 0 0 0 0 0 0 0 0 0 0]]\n"
          ]
        }
      ]
    },
    {
      "cell_type": "markdown",
      "source": [
        "## Term frequency Inverse document frequency (TF-IDF)"
      ],
      "metadata": {
        "id": "BXzPZPQYutGY"
      }
    },
    {
      "cell_type": "code",
      "source": [
        "from sklearn.feature_extraction.text import TfidfVectorizer\n",
        "tfid = TfidfVectorizer()\n",
        "tfid"
      ],
      "metadata": {
        "colab": {
          "base_uri": "https://localhost:8080/"
        },
        "id": "RRN1FeQ0tLgw",
        "outputId": "5edf62a8-a670-4176-ac84-2594c3177bad"
      },
      "execution_count": 30,
      "outputs": [
        {
          "output_type": "execute_result",
          "data": {
            "text/plain": [
              "TfidfVectorizer()"
            ]
          },
          "metadata": {},
          "execution_count": 30
        }
      ]
    },
    {
      "cell_type": "code",
      "source": [
        "bow_tfid = tfid.fit_transform(preprocessed_docs)\n",
        "print(f\"inverse document frequencies of our vocab = {tfid.idf_}\")  ## printing inverse document frequency for all the words\n",
        "print(f\"words of our vocab = {tfid.get_feature_names_out()}\")"
      ],
      "metadata": {
        "colab": {
          "base_uri": "https://localhost:8080/"
        },
        "id": "kzjWa0pnwQkO",
        "outputId": "9d6bcc86-c1e3-4c7e-db9f-91e5f3e028a3"
      },
      "execution_count": 39,
      "outputs": [
        {
          "output_type": "stream",
          "name": "stdout",
          "text": [
            "inverse document frequencies of our vocab = [1.51082562 1.22314355 1.51082562 1.91629073 1.22314355 1.91629073]\n",
            "words of our vocab = ['bites' 'dog' 'eats' 'food' 'man' 'meat']\n"
          ]
        }
      ]
    },
    {
      "cell_type": "code",
      "source": [
        "temp = tfid.transform(['Dog and man are friends'])\n",
        "print(temp.toarray())\n"
      ],
      "metadata": {
        "colab": {
          "base_uri": "https://localhost:8080/"
        },
        "id": "xIubBwaKwhc-",
        "outputId": "3c297e85-76b5-403c-f841-a0993d64aad5"
      },
      "execution_count": 40,
      "outputs": [
        {
          "output_type": "stream",
          "name": "stdout",
          "text": [
            "[[0.         0.70710678 0.         0.         0.70710678 0.        ]]\n"
          ]
        }
      ]
    },
    {
      "cell_type": "code",
      "source": [
        "def word_embedding_using_tfidf(list_of_texts):\n",
        "  temp = tfid.transform(list_of_texts)\n",
        "  print(f\"Representation of the {list_of_texts} --> {temp.toarray()}\")\n",
        "word_embedding_using_tfidf(['Hello my sweet dog','How are you','Man and dog are friends'])"
      ],
      "metadata": {
        "colab": {
          "base_uri": "https://localhost:8080/"
        },
        "id": "MuMm0fu3x8f5",
        "outputId": "6cc8c69c-ed89-4324-bf4a-c4321f8466a0"
      },
      "execution_count": 43,
      "outputs": [
        {
          "output_type": "stream",
          "name": "stdout",
          "text": [
            "Representation of the ['Hello my sweet dog', 'How are you', 'Man and dog are friends'] --> [[0.         1.         0.         0.         0.         0.        ]\n",
            " [0.         0.         0.         0.         0.         0.        ]\n",
            " [0.         0.70710678 0.         0.         0.70710678 0.        ]]\n"
          ]
        }
      ]
    },
    {
      "cell_type": "code",
      "source": [
        ""
      ],
      "metadata": {
        "id": "jEY-Hte9ye6P"
      },
      "execution_count": null,
      "outputs": []
    }
  ]
}